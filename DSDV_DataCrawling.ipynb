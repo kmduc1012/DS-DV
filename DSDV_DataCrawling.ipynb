{
 "cells": [
  {
   "cell_type": "code",
   "execution_count": 4,
   "metadata": {},
   "outputs": [],
   "source": [
    "from selenium import webdriver\n",
    "from selenium.webdriver.common.keys import Keys\n",
    "from bs4 import BeautifulSoup\n",
    "import re\n",
    "import pandas as pd\n",
    "import os\n",
    "\n",
    "from selenium.webdriver.chrome.options import Options\n",
    "opts = Options()\n",
    "opts.add_argument(\"user-agent=vietvv\")"
   ]
  },
  {
   "cell_type": "code",
   "execution_count": 13,
   "metadata": {},
   "outputs": [],
   "source": [
    "driver = webdriver.Chrome(\"C:\\Program Files (x86)\\Google\\Chrome\\Application\\chromedriver.exe\",options=opts)"
   ]
  },
  {
   "cell_type": "code",
   "execution_count": 14,
   "metadata": {},
   "outputs": [],
   "source": [
    "url = \"https://ncov.moh.gov.vn/\"\n",
    "driver.get(url)\n",
    "content = driver.page_source\n",
    "soup = BeautifulSoup(content)"
   ]
  },
  {
   "cell_type": "code",
   "execution_count": 15,
   "metadata": {},
   "outputs": [],
   "source": [
    "table=soup.find_all(id='sailorTable',attrs={'class':\"table table-striped table-covid19\"})"
   ]
  },
  {
   "cell_type": "code",
   "execution_count": 16,
   "metadata": {},
   "outputs": [],
   "source": [
    "tinh_thanh_pho=[]\n",
    "so_ca_nhiem=[]\n",
    "dang_dieu_tri=[]\n",
    "khoi=[]\n",
    "tu_vong=[]\n",
    "data_1=table[0].find('tbody') #this is table 1\n",
    "\n",
    "#Navigate the data from table 1 and fit them to the lists above\n",
    "for row in data_1.find_all('tr'):\n",
    "    tinh_thanh_pho.append(row.find_all('td')[0].string)\n",
    "    so_ca_nhiem.append(row.find_all('td')[1].string)\n",
    "    dang_dieu_tri.append(row.find_all('td')[2].string)\n",
    "    khoi.append(row.find_all('td')[3].string)\n",
    "    tu_vong.append(row.find_all('td')[4].string)"
   ]
  },
  {
   "cell_type": "code",
   "execution_count": 17,
   "metadata": {},
   "outputs": [],
   "source": [
    "#Create a pd dataframe for table 1\n",
    "df_1=pd.DataFrame({'Province':tinh_thanh_pho,'Confirm':so_ca_nhiem,'Active':dang_dieu_tri,'Recovered':khoi,'Death':tu_vong})"
   ]
  },
  {
   "cell_type": "code",
   "execution_count": 18,
   "metadata": {},
   "outputs": [],
   "source": [
    "#Extract the data to a csv file\n",
    "df_1.to_csv('covid19_province.csv',encoding=\"utf-8\")"
   ]
  },
  {
   "cell_type": "code",
   "execution_count": 19,
   "metadata": {},
   "outputs": [],
   "source": [
    "benh_nhan=[]\n",
    "tuoi=[]\n",
    "gioi_tinh=[]\n",
    "dia_diem=[]\n",
    "tinh_trang=[]\n",
    "quoc_tich=[]\n",
    "data_2=table[1].find('tbody') #this is table 2\n",
    "\n",
    "#Navigate the data from table 2 and fit them to the lists above\n",
    "for row in data_2.find_all('tr'):\n",
    "    benh_nhan.append(row.find_all('td')[0].string)\n",
    "    tuoi.append(row.find_all('td')[1].string)\n",
    "    gioi_tinh.append(row.find_all('td')[2].string)\n",
    "    dia_diem.append(row.find_all('td')[3].string)\n",
    "    tinh_trang.append(row.find_all('td')[4].string)\n",
    "    quoc_tich.append(row.find_all('td')[5].string)"
   ]
  },
  {
   "cell_type": "code",
   "execution_count": 20,
   "metadata": {},
   "outputs": [],
   "source": [
    "#Create a pd dataframe for table 2\n",
    "df_2=pd.DataFrame({'PatientID':benh_nhan,'Age':tuoi,'Sex':gioi_tinh,'Location':dia_diem,'Status':tinh_trang,'Nationality':quoc_tich})"
   ]
  },
  {
   "cell_type": "code",
   "execution_count": 24,
   "metadata": {},
   "outputs": [],
   "source": [
    "#Extract the data to a csv file\n",
    "df_2.to_csv(\"covid19_patient.csv\",encoding=\"utf-8\")"
   ]
  },
  {
   "cell_type": "code",
   "execution_count": null,
   "metadata": {},
   "outputs": [],
   "source": []
  }
 ],
 "metadata": {
  "kernelspec": {
   "display_name": "Python 3",
   "language": "python",
   "name": "python3"
  },
  "language_info": {
   "codemirror_mode": {
    "name": "ipython",
    "version": 3
   },
   "file_extension": ".py",
   "mimetype": "text/x-python",
   "name": "python",
   "nbconvert_exporter": "python",
   "pygments_lexer": "ipython3",
   "version": "3.7.3"
  }
 },
 "nbformat": 4,
 "nbformat_minor": 2
}
